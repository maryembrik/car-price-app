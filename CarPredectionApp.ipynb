{
 "cells": [
  {
   "cell_type": "code",
   "execution_count": 9,
   "id": "76aaabae-c598-4c50-b6a4-7eca26f3e407",
   "metadata": {},
   "outputs": [
    {
     "ename": "NameError",
     "evalue": "name 'df_object_for_LB' is not defined",
     "output_type": "error",
     "traceback": [
      "\u001b[1;31m---------------------------------------------------------------------------\u001b[0m",
      "\u001b[1;31mNameError\u001b[0m                                 Traceback (most recent call last)",
      "Cell \u001b[1;32mIn[9], line 21\u001b[0m\n\u001b[0;32m     18\u001b[0m prod_year \u001b[38;5;241m=\u001b[39m st\u001b[38;5;241m.\u001b[39mnumber_input(\u001b[38;5;124m\"\u001b[39m\u001b[38;5;124mProduction Year\u001b[39m\u001b[38;5;124m\"\u001b[39m, value\u001b[38;5;241m=\u001b[39m\u001b[38;5;241m2015\u001b[39m, step\u001b[38;5;241m=\u001b[39m\u001b[38;5;241m1\u001b[39m)\n\u001b[0;32m     20\u001b[0m \u001b[38;5;66;03m# Categorical Inputs (you can encode similarly)\u001b[39;00m\n\u001b[1;32m---> 21\u001b[0m manufacturer \u001b[38;5;241m=\u001b[39m st\u001b[38;5;241m.\u001b[39mselectbox(\u001b[38;5;124m\"\u001b[39m\u001b[38;5;124mManufacturer\u001b[39m\u001b[38;5;124m\"\u001b[39m, df_object_for_LB[\u001b[38;5;124m\"\u001b[39m\u001b[38;5;124mManufacturer\u001b[39m\u001b[38;5;124m\"\u001b[39m]\u001b[38;5;241m.\u001b[39munique())\n\u001b[0;32m     22\u001b[0m model_name \u001b[38;5;241m=\u001b[39m st\u001b[38;5;241m.\u001b[39mselectbox(\u001b[38;5;124m\"\u001b[39m\u001b[38;5;124mModel\u001b[39m\u001b[38;5;124m\"\u001b[39m, df_object_for_LB[\u001b[38;5;124m\"\u001b[39m\u001b[38;5;124mModel\u001b[39m\u001b[38;5;124m\"\u001b[39m]\u001b[38;5;241m.\u001b[39munique())\n\u001b[0;32m     23\u001b[0m category \u001b[38;5;241m=\u001b[39m st\u001b[38;5;241m.\u001b[39mselectbox(\u001b[38;5;124m\"\u001b[39m\u001b[38;5;124mCategory\u001b[39m\u001b[38;5;124m\"\u001b[39m, df_object_for_LB[\u001b[38;5;124m\"\u001b[39m\u001b[38;5;124mCategory\u001b[39m\u001b[38;5;124m\"\u001b[39m]\u001b[38;5;241m.\u001b[39munique())\n",
      "\u001b[1;31mNameError\u001b[0m: name 'df_object_for_LB' is not defined"
     ]
    }
   ],
   "source": [
    "import streamlit as st\n",
    "import pickle\n",
    "import pandas as pd\n",
    "import numpy as np\n",
    "\n",
    "# Load the trained model\n",
    "with open('random_forest_model.pkl', 'rb') as file:\n",
    "    model = pickle.load(file)\n",
    "\n",
    "st.title(\"🚗 Car Price Prediction App\")\n",
    "\n",
    "# ---- Collect Inputs ----\n",
    "levy = st.number_input(\"Levy\", value=1000.0, step=100.0)\n",
    "engine_vol = st.number_input(\"Engine Volume (liters)\", value=2.0, step=0.1)\n",
    "mileage = st.number_input(\"Mileage (km)\", value=50000.0, step=1000.0)\n",
    "cylinders = st.number_input(\"Cylinders\", value=4, step=1)\n",
    "airbags = st.number_input(\"Airbags\", value=2, step=1)\n",
    "prod_year = st.number_input(\"Production Year\", value=2015, step=1)\n",
    "\n",
    "# Categorical Inputs (you can encode similarly)\n",
    "manufacturer = st.selectbox(\"Manufacturer\", df_object_for_LB[\"Manufacturer\"].unique())\n",
    "model_name = st.selectbox(\"Model\", df_object_for_LB[\"Model\"].unique())\n",
    "category = st.selectbox(\"Category\", df_object_for_LB[\"Category\"].unique())\n",
    "fuel_type = st.selectbox(\"Fuel Type\", df_object_for_LB[\"Fuel type\"].unique())\n",
    "color = st.selectbox(\"Color\", df_object_for_LB[\"Color\"].unique())\n",
    "leather_interior = st.selectbox(\"Leather Interior\", df_object_for_LB[\"Leather interior\"].unique())\n",
    "wheel = st.selectbox(\"Wheel\", df_object_for_LB[\"Wheel\"].unique())\n",
    "\n",
    "# Encode the categorical inputs\n",
    "features_cat = {\n",
    "    \"Manufacturer\": LabelEncoders[\"Manufacturer\"].transform([manufacturer])[0],\n",
    "    \"Model\": LabelEncoders[\"Model\"].transform([model_name])[0],\n",
    "    \"Category\": LabelEncoders[\"Category\"].transform([category])[0],\n",
    "    \"Fuel type\": LabelEncoders[\"Fuel type\"].transform([fuel_type])[0],\n",
    "    \"Color\": LabelEncoders[\"Color\"].transform([color])[0],\n",
    "    \"Leather interior\": LabelEncoders[\"Leather interior\"].transform([leather_interior])[0],\n",
    "    \"Wheel\": LabelEncoders[\"Wheel\"].transform([wheel])[0]\n",
    "}\n",
    "\n",
    "# Create final input array\n",
    "input_data = np.array([[levy, engine_vol, mileage, cylinders, airbags, prod_year,\n",
    "                        features_cat[\"Manufacturer\"], features_cat[\"Model\"],\n",
    "                        features_cat[\"Category\"], features_cat[\"Fuel type\"],\n",
    "                        features_cat[\"Color\"], features_cat[\"Leather interior\"],\n",
    "                        features_cat[\"Wheel\"]]])\n",
    "\n",
    "# ---- Make Prediction ----\n",
    "if st.button(\"Predict Price\"):\n",
    "    prediction = model.predict(input_data)\n",
    "    st.success(f\"✅ The estimated price is ${prediction[0]:,.2f}\")\n",
    "\n"
   ]
  },
  {
   "cell_type": "code",
   "execution_count": null,
   "id": "d511bc36-4787-4392-8c1e-a3fe9fe3b540",
   "metadata": {},
   "outputs": [],
   "source": []
  },
  {
   "cell_type": "code",
   "execution_count": null,
   "id": "67f0daf4-a312-4b16-a108-2dfe6399c8af",
   "metadata": {},
   "outputs": [],
   "source": []
  }
 ],
 "metadata": {
  "kernelspec": {
   "display_name": "Python [conda env:base] *",
   "language": "python",
   "name": "conda-base-py"
  },
  "language_info": {
   "codemirror_mode": {
    "name": "ipython",
    "version": 3
   },
   "file_extension": ".py",
   "mimetype": "text/x-python",
   "name": "python",
   "nbconvert_exporter": "python",
   "pygments_lexer": "ipython3",
   "version": "3.12.7"
  }
 },
 "nbformat": 4,
 "nbformat_minor": 5
}
